{
 "cells": [
  {
   "cell_type": "markdown",
   "metadata": {
    "ExecuteTime": {
     "end_time": "2019-12-12T19:22:03.258751Z",
     "start_time": "2019-12-12T19:22:03.250745Z"
    }
   },
   "source": [
    "<h1><center>What's new in Python 3.8 </center></h1>"
   ]
  },
  {
   "cell_type": "markdown",
   "metadata": {},
   "source": [
    "![title](https://www.sciencealert.com/images/2019-09/processed/WalrusAttackedRussianBoat_600.jpg)"
   ]
  },
  {
   "cell_type": "markdown",
   "metadata": {
    "ExecuteTime": {
     "end_time": "2019-12-12T19:32:59.789618Z",
     "start_time": "2019-12-12T19:32:59.773830Z"
    }
   },
   "source": [
    "Python 3.8 Release Schedule and some notable changes are [here](https://www.python.org/dev/peps/pep-0569/#features-for-3-8)<br>\n",
    "Full changelog is [here](https://docs.python.org/3/whatsnew/3.8.html)"
   ]
  },
  {
   "cell_type": "markdown",
   "metadata": {},
   "source": [
    "## Typing-related changes"
   ]
  },
  {
   "cell_type": "markdown",
   "metadata": {},
   "source": [
    "### Final qualifier\n",
    "[PEP 591](https://www.python.org/dev/peps/pep-0591/)"
   ]
  },
  {
   "cell_type": "code",
   "execution_count": 51,
   "metadata": {
    "ExecuteTime": {
     "end_time": "2019-12-12T22:10:25.936671Z",
     "start_time": "2019-12-12T22:10:25.930315Z"
    }
   },
   "outputs": [],
   "source": [
    "from typing import Final, final\n",
    "\n",
    "company_name: Final = 'Align'\n",
    "company_name = 'XXX'  # 'company_name' is 'Final' and could not be reassigned"
   ]
  },
  {
   "cell_type": "code",
   "execution_count": 47,
   "metadata": {
    "ExecuteTime": {
     "end_time": "2019-12-12T22:07:10.089232Z",
     "start_time": "2019-12-12T22:07:10.077523Z"
    }
   },
   "outputs": [],
   "source": [
    "@final\n",
    "class BaseFinal:\n",
    "    \"\"\"\"\"\"\n",
    "\n",
    "\n",
    "class Derived(BaseFinal):  # 'BaseFinal' is marked as '@final' and should not be subclassed\n",
    "    \"\"\"\"\"\""
   ]
  },
  {
   "cell_type": "code",
   "execution_count": null,
   "metadata": {},
   "outputs": [],
   "source": [
    "class BaseWithFinals:\n",
    "    attribute: Final = 'base_value'\n",
    "\n",
    "    @final\n",
    "    def method(self):\n",
    "        pass\n",
    "\n",
    "\n",
    "class DerivedAgain(BaseWithFinals):\n",
    "    attribute = 'new_value'  # 'BaseWithFinals.attribute' is 'Final' and could not be reassigned\n",
    "    another_attribute = 'another_value'\n",
    "\n",
    "    def method(self):  # 'final.BaseWithFinals.method' is marked as '@final' and should not be overridden\n",
    "        pass\n",
    "\n",
    "    def another_method(self):\n",
    "        pass"
   ]
  },
  {
   "cell_type": "markdown",
   "metadata": {},
   "source": [
    "### Literal types\n",
    "[PEP 586](https://www.python.org/dev/peps/pep-0586/)"
   ]
  },
  {
   "cell_type": "code",
   "execution_count": 20,
   "metadata": {
    "ExecuteTime": {
     "end_time": "2019-12-12T21:22:25.870606Z",
     "start_time": "2019-12-12T21:22:25.839904Z"
    }
   },
   "outputs": [
    {
     "name": "stdout",
     "output_type": "stream",
     "text": [
      "You have eaten 1 burgers.\n",
      "You have eaten 1.0 burgers.\n",
      "You have eaten 2 burgers.\n"
     ]
    }
   ],
   "source": [
    "from typing import Literal\n",
    "\n",
    "\n",
    "def eat_burgers(count: Literal[1]) -> None:\n",
    "    print(f'You have eaten {count} burgers.')\n",
    "\n",
    "eat_burgers(1)  # ok\n",
    "eat_burgers(1.0)  # not ok\n",
    "eat_burgers(2)  # too many burgers"
   ]
  },
  {
   "cell_type": "markdown",
   "metadata": {},
   "source": [
    "### TypedDict\n",
    "[PEP 589](https://www.python.org/dev/peps/pep-0589/)"
   ]
  },
  {
   "cell_type": "code",
   "execution_count": 52,
   "metadata": {
    "ExecuteTime": {
     "end_time": "2019-12-12T22:10:41.990627Z",
     "start_time": "2019-12-12T22:10:41.963525Z"
    }
   },
   "outputs": [],
   "source": [
    "from typing import TypedDict\n",
    "\n",
    "class Movie(TypedDict):\n",
    "    name: str\n",
    "    year: int\n",
    "\n",
    "movie: Movie = {'name': 'Blade Runner',\n",
    "                'year': 1982}"
   ]
  },
  {
   "cell_type": "markdown",
   "metadata": {},
   "source": [
    "## Assignment expressions"
   ]
  },
  {
   "cell_type": "markdown",
   "metadata": {},
   "source": [
    "### F-strings =\n",
    "(https://bugs.python.org/issue36817)"
   ]
  },
  {
   "cell_type": "code",
   "execution_count": 54,
   "metadata": {
    "ExecuteTime": {
     "end_time": "2019-12-12T22:12:29.909808Z",
     "start_time": "2019-12-12T22:12:29.861873Z"
    }
   },
   "outputs": [
    {
     "ename": "AssertionError",
     "evalue": "expected 200, actual 500",
     "output_type": "error",
     "traceback": [
      "\u001b[0;31m---------------------------------------------------------------------------\u001b[0m",
      "\u001b[0;31mAssertionError\u001b[0m                            Traceback (most recent call last)",
      "\u001b[0;32m<ipython-input-54-115dc65617a3>\u001b[0m in \u001b[0;36m<module>\u001b[0;34m\u001b[0m\n\u001b[1;32m      3\u001b[0m \u001b[0;34m\u001b[0m\u001b[0m\n\u001b[1;32m      4\u001b[0m \u001b[0;31m#This is better than\u001b[0m\u001b[0;34m\u001b[0m\u001b[0;34m\u001b[0m\u001b[0;34m\u001b[0m\u001b[0m\n\u001b[0;32m----> 5\u001b[0;31m \u001b[0;32massert\u001b[0m \u001b[0mexpected_response\u001b[0m \u001b[0;34m==\u001b[0m \u001b[0mactual_response\u001b[0m\u001b[0;34m,\u001b[0m \u001b[0;34mf'expected {expected_response}, actual {actual_response}'\u001b[0m\u001b[0;34m\u001b[0m\u001b[0;34m\u001b[0m\u001b[0m\n\u001b[0m",
      "\u001b[0;31mAssertionError\u001b[0m: expected 200, actual 500"
     ]
    }
   ],
   "source": [
    "expected_response = 200\n",
    "actual_response = 500\n",
    "\n",
    "#The old way\n",
    "assert expected_response == actual_response, f'expected {expected_response}, actual {actual_response}'"
   ]
  },
  {
   "cell_type": "code",
   "execution_count": 55,
   "metadata": {
    "ExecuteTime": {
     "end_time": "2019-12-12T22:12:55.327127Z",
     "start_time": "2019-12-12T22:12:55.294336Z"
    }
   },
   "outputs": [
    {
     "ename": "AssertionError",
     "evalue": "expected_response=200, actual_response=500",
     "output_type": "error",
     "traceback": [
      "\u001b[0;31m---------------------------------------------------------------------------\u001b[0m",
      "\u001b[0;31mAssertionError\u001b[0m                            Traceback (most recent call last)",
      "\u001b[0;32m<ipython-input-55-0c66a4c3970c>\u001b[0m in \u001b[0;36m<module>\u001b[0;34m\u001b[0m\n\u001b[1;32m      1\u001b[0m \u001b[0;31m# Now it is possible to use '=' in f-strings\u001b[0m\u001b[0;34m\u001b[0m\u001b[0;34m\u001b[0m\u001b[0;34m\u001b[0m\u001b[0m\n\u001b[0;32m----> 2\u001b[0;31m \u001b[0;32massert\u001b[0m \u001b[0mexpected_response\u001b[0m \u001b[0;34m==\u001b[0m \u001b[0mactual_response\u001b[0m\u001b[0;34m,\u001b[0m \u001b[0;34mf'{expected_response=}, {actual_response=}'\u001b[0m\u001b[0;34m\u001b[0m\u001b[0;34m\u001b[0m\u001b[0m\n\u001b[0m",
      "\u001b[0;31mAssertionError\u001b[0m: expected_response=200, actual_response=500"
     ]
    }
   ],
   "source": [
    "# Now it is possible to use '=' in f-strings\n",
    "assert expected_response == actual_response, f'{expected_response=}, {actual_response=}'"
   ]
  },
  {
   "cell_type": "markdown",
   "metadata": {},
   "source": [
    "### Assignment Expressions\n",
    "[PEP-572](https://www.python.org/dev/peps/pep-0572/)"
   ]
  },
  {
   "cell_type": "code",
   "execution_count": 82,
   "metadata": {
    "ExecuteTime": {
     "end_time": "2019-12-12T22:37:09.555220Z",
     "start_time": "2019-12-12T22:37:09.538222Z"
    }
   },
   "outputs": [
    {
     "name": "stdout",
     "output_type": "stream",
     "text": [
      "3\n",
      "2\n"
     ]
    }
   ],
   "source": [
    "print((a:=2) + 1)\n",
    "print(a)"
   ]
  },
  {
   "cell_type": "code",
   "execution_count": 58,
   "metadata": {
    "ExecuteTime": {
     "end_time": "2019-12-12T22:16:17.061228Z",
     "start_time": "2019-12-12T22:16:17.053680Z"
    }
   },
   "outputs": [
    {
     "name": "stdout",
     "output_type": "stream",
     "text": [
      "value\n"
     ]
    }
   ],
   "source": [
    "# How it was in Python 3.7\n",
    "\n",
    "some_dict = {'key': 'value'}\n",
    "\n",
    "x1 = some_dict.get('key')\n",
    "\n",
    "if x1 is not None:\n",
    "    print(x1)"
   ]
  },
  {
   "cell_type": "code",
   "execution_count": 70,
   "metadata": {
    "ExecuteTime": {
     "end_time": "2019-12-12T22:33:06.516341Z",
     "start_time": "2019-12-12T22:33:06.509437Z"
    }
   },
   "outputs": [
    {
     "name": "stdout",
     "output_type": "stream",
     "text": [
      "value\n"
     ]
    }
   ],
   "source": [
    "# Python 3.8\n",
    "\n",
    "some_dict = {'key': 'value'}\n",
    "\n",
    "if x2 := some_dict.get('key'):\n",
    "    print(x2)"
   ]
  },
  {
   "cell_type": "code",
   "execution_count": null,
   "metadata": {
    "ExecuteTime": {
     "end_time": "2019-12-12T22:36:15.429719Z",
     "start_time": "2019-12-12T22:36:15.422252Z"
    }
   },
   "outputs": [],
   "source": []
  },
  {
   "cell_type": "markdown",
   "metadata": {},
   "source": [
    "## Positional-only arguments\n",
    "[PEP-570](https://www.python.org/dev/peps/pep-0570/)"
   ]
  },
  {
   "cell_type": "markdown",
   "metadata": {},
   "source": [
    "Python 3.0, [PEP 3102](https://www.python.org/dev/peps/pep-3102/) -- Keyword-Only Arguments:"
   ]
  },
  {
   "cell_type": "code",
   "execution_count": 22,
   "metadata": {
    "ExecuteTime": {
     "end_time": "2019-12-12T21:44:54.315956Z",
     "start_time": "2019-12-12T21:44:54.293749Z"
    }
   },
   "outputs": [
    {
     "ename": "TypeError",
     "evalue": "test() takes 2 positional arguments but 4 were given",
     "output_type": "error",
     "traceback": [
      "\u001b[0;31m---------------------------------------------------------------------------\u001b[0m",
      "\u001b[0;31mTypeError\u001b[0m                                 Traceback (most recent call last)",
      "\u001b[0;32m<ipython-input-22-c81b60114ef6>\u001b[0m in \u001b[0;36m<module>\u001b[0;34m\u001b[0m\n\u001b[1;32m      2\u001b[0m     \u001b[0;32mpass\u001b[0m\u001b[0;34m\u001b[0m\u001b[0;34m\u001b[0m\u001b[0m\n\u001b[1;32m      3\u001b[0m \u001b[0;34m\u001b[0m\u001b[0m\n\u001b[0;32m----> 4\u001b[0;31m \u001b[0mtest\u001b[0m\u001b[0;34m(\u001b[0m\u001b[0;36m1\u001b[0m\u001b[0;34m,\u001b[0m \u001b[0;36m2\u001b[0m\u001b[0;34m,\u001b[0m \u001b[0;36m3\u001b[0m\u001b[0;34m,\u001b[0m \u001b[0;36m4\u001b[0m\u001b[0;34m)\u001b[0m\u001b[0;34m\u001b[0m\u001b[0;34m\u001b[0m\u001b[0m\n\u001b[0m",
      "\u001b[0;31mTypeError\u001b[0m: test() takes 2 positional arguments but 4 were given"
     ]
    }
   ],
   "source": [
    "def test_kwonly(a, b, *, key1, key2):\n",
    "    pass\n",
    "\n",
    "test(1, 2, 3, 4)"
   ]
  },
  {
   "cell_type": "code",
   "execution_count": 23,
   "metadata": {
    "ExecuteTime": {
     "end_time": "2019-12-12T21:44:56.232271Z",
     "start_time": "2019-12-12T21:44:56.214818Z"
    }
   },
   "outputs": [],
   "source": [
    "test_kwonly(1, 2, key1=3, key2=4)"
   ]
  },
  {
   "cell_type": "markdown",
   "metadata": {},
   "source": [
    "Now it is possible to use positional-only arguments:"
   ]
  },
  {
   "cell_type": "code",
   "execution_count": 29,
   "metadata": {
    "ExecuteTime": {
     "end_time": "2019-12-12T21:49:04.874605Z",
     "start_time": "2019-12-12T21:49:04.848323Z"
    }
   },
   "outputs": [
    {
     "ename": "TypeError",
     "evalue": "test_positional() got some positional-only arguments passed as keyword arguments: 'b'",
     "output_type": "error",
     "traceback": [
      "\u001b[0;31m---------------------------------------------------------------------------\u001b[0m",
      "\u001b[0;31mTypeError\u001b[0m                                 Traceback (most recent call last)",
      "\u001b[0;32m<ipython-input-29-9ba3715fe5b3>\u001b[0m in \u001b[0;36m<module>\u001b[0;34m\u001b[0m\n\u001b[1;32m      2\u001b[0m     \u001b[0;32mpass\u001b[0m\u001b[0;34m\u001b[0m\u001b[0;34m\u001b[0m\u001b[0m\n\u001b[1;32m      3\u001b[0m \u001b[0;34m\u001b[0m\u001b[0m\n\u001b[0;32m----> 4\u001b[0;31m \u001b[0mtest_positional\u001b[0m\u001b[0;34m(\u001b[0m\u001b[0;36m1\u001b[0m\u001b[0;34m,\u001b[0m \u001b[0mb\u001b[0m\u001b[0;34m=\u001b[0m\u001b[0;36m2\u001b[0m\u001b[0;34m)\u001b[0m\u001b[0;34m\u001b[0m\u001b[0;34m\u001b[0m\u001b[0m\n\u001b[0m",
      "\u001b[0;31mTypeError\u001b[0m: test_positional() got some positional-only arguments passed as keyword arguments: 'b'"
     ]
    }
   ],
   "source": [
    "def test_positional(a, b, /, key1=None, key2=None):\n",
    "    pass\n",
    "\n",
    "test_positional(1, b=2)"
   ]
  },
  {
   "cell_type": "code",
   "execution_count": 30,
   "metadata": {
    "ExecuteTime": {
     "end_time": "2019-12-12T21:49:17.630130Z",
     "start_time": "2019-12-12T21:49:17.614407Z"
    }
   },
   "outputs": [],
   "source": [
    "test_positional(1, 2)"
   ]
  },
  {
   "cell_type": "markdown",
   "metadata": {},
   "source": [
    "## _continue_ is now legal in _finally:_ blocks\n",
    "[PEP 601](https://www.python.org/dev/peps/pep-0601/)"
   ]
  },
  {
   "cell_type": "code",
   "execution_count": 39,
   "metadata": {
    "ExecuteTime": {
     "end_time": "2019-12-12T21:56:18.146819Z",
     "start_time": "2019-12-12T21:56:18.114151Z"
    }
   },
   "outputs": [
    {
     "name": "stdout",
     "output_type": "stream",
     "text": [
      "finally\n",
      "finally\n",
      "after while\n"
     ]
    }
   ],
   "source": [
    "for i in range(2):\n",
    "    try:\n",
    "        1 / i\n",
    "    finally:\n",
    "        print('finally')\n",
    "        continue\n",
    "    print('after try')\n",
    "\n",
    "print('after while')"
   ]
  },
  {
   "cell_type": "markdown",
   "metadata": {},
   "source": [
    "## _multiprocessing_ can now use shared memory segments"
   ]
  },
  {
   "cell_type": "code",
   "execution_count": 45,
   "metadata": {
    "ExecuteTime": {
     "end_time": "2019-12-12T22:00:02.488783Z",
     "start_time": "2019-12-12T22:00:02.480630Z"
    }
   },
   "outputs": [
    {
     "name": "stdout",
     "output_type": "stream",
     "text": [
      "psm_cb14a208\n",
      "ShareableList([0, 1, 2], name='psm_cb14a208')\n"
     ]
    }
   ],
   "source": [
    "from multiprocessing import shared_memory\n",
    "\n",
    "a = shared_memory.ShareableList(range(3))\n",
    "\n",
    "print(a.shm.name)\n",
    "print(a)"
   ]
  },
  {
   "cell_type": "code",
   "execution_count": 46,
   "metadata": {
    "ExecuteTime": {
     "end_time": "2019-12-12T22:00:07.480048Z",
     "start_time": "2019-12-12T22:00:07.474160Z"
    }
   },
   "outputs": [
    {
     "name": "stdout",
     "output_type": "stream",
     "text": [
      "ShareableList([0, 1, 2], name='psm_cb14a208')\n"
     ]
    }
   ],
   "source": [
    "b = shared_memory.ShareableList(name='psm_cb14a208')\n",
    "\n",
    "print(b)"
   ]
  },
  {
   "cell_type": "markdown",
   "metadata": {},
   "source": [
    "## Dictionaries can be iterated in reversed mode"
   ]
  },
  {
   "cell_type": "code",
   "execution_count": 89,
   "metadata": {
    "ExecuteTime": {
     "end_time": "2019-12-12T23:17:15.959033Z",
     "start_time": "2019-12-12T23:17:15.944109Z"
    }
   },
   "outputs": [
    {
     "name": "stdout",
     "output_type": "stream",
     "text": [
      "2\n",
      "1\n"
     ]
    }
   ],
   "source": [
    "some_dict = {1: 'a', 2: 'b'}\n",
    "\n",
    "for key in reversed(some_dict):\n",
    "    print(key)"
   ]
  },
  {
   "cell_type": "markdown",
   "metadata": {},
   "source": [
    "## Performance"
   ]
  },
  {
   "cell_type": "code",
   "execution_count": 101,
   "metadata": {
    "ExecuteTime": {
     "end_time": "2019-12-12T23:42:16.476547Z",
     "start_time": "2019-12-12T23:41:19.547509Z"
    }
   },
   "outputs": [
    {
     "name": "stdout",
     "output_type": "stream",
     "text": [
      "Variable and attribute read access:\n",
      "   5.2 ns\tread_local\n",
      "   5.7 ns\tread_nonlocal\n",
      "   7.2 ns\tread_global\n",
      "   7.1 ns\tread_builtin\n",
      "  19.8 ns\tread_classvar_from_class\n",
      "  19.5 ns\tread_classvar_from_instance\n",
      "  26.1 ns\tread_instancevar\n",
      "  21.6 ns\tread_instancevar_slots\n",
      "  20.3 ns\tread_namedtuple\n",
      "  28.9 ns\tread_boundmethod\n",
      "\n",
      "Variable and attribute write access:\n",
      "   5.0 ns\twrite_local\n",
      "   5.4 ns\twrite_nonlocal\n",
      "  18.6 ns\twrite_global\n",
      "  41.3 ns\twrite_classvar\n",
      "  38.4 ns\twrite_instancevar\n",
      "  26.5 ns\twrite_instancevar_slots\n",
      "\n",
      "Data structure read access:\n",
      "  19.0 ns\tread_list\n",
      "  21.6 ns\tread_deque\n",
      "  24.4 ns\tread_dict\n",
      "  21.1 ns\tread_strdict\n",
      "\n",
      "Data structure write access:\n",
      "  22.2 ns\twrite_list\n",
      "  22.9 ns\twrite_deque\n",
      "  26.7 ns\twrite_dict\n",
      "  24.3 ns\twrite_strdict\n",
      "\n",
      "Stack (or queue) operations:\n",
      "  53.9 ns\tlist_append_pop\n",
      "  44.1 ns\tdeque_append_pop\n",
      "  45.4 ns\tdeque_append_popleft\n",
      "\n",
      "Timing loop overhead:\n",
      "   0.3 ns\tloop_overhead\n"
     ]
    }
   ],
   "source": [
    "%run -i '/opt/Python-3.8.0/Tools/scripts/var_access_benchmark.py'"
   ]
  },
  {
   "cell_type": "code",
   "execution_count": null,
   "metadata": {},
   "outputs": [],
   "source": []
  }
 ],
 "metadata": {
  "kernelspec": {
   "display_name": "python3.8",
   "language": "python",
   "name": "python3.8"
  },
  "language_info": {
   "codemirror_mode": {
    "name": "ipython",
    "version": 3
   },
   "file_extension": ".py",
   "mimetype": "text/x-python",
   "name": "python",
   "nbconvert_exporter": "python",
   "pygments_lexer": "ipython3",
   "version": "3.8.0"
  }
 },
 "nbformat": 4,
 "nbformat_minor": 2
}
